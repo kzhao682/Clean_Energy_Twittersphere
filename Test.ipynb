{
 "cells": [
  {
   "cell_type": "code",
   "execution_count": 1,
   "metadata": {
    "collapsed": true
   },
   "outputs": [],
   "source": [
    "import tweepy\n",
    "import os\n",
    "import requests"
   ]
  },
  {
   "cell_type": "code",
   "execution_count": null,
   "metadata": {
    "collapsed": true
   },
   "outputs": [],
   "source": [
    "auth = tweepy.AppAuthHandler(os.environ[\"TWITTER_CONSUMER_KEY\"], os.environ[\"TWITTER_CONSUMER_SECRET\"])\n",
    "\n",
    "api = tweepy.API(auth, wait_on_rate_limit=True, wait_on_rate_limit_notify=True)\n",
    "\n",
    "if (not api):\n",
    "    print(\"Can't Authenticate\")\n",
    "    sys.exit(-1)"
   ]
  },
  {
   "cell_type": "code",
   "execution_count": 13,
   "metadata": {},
   "outputs": [
    {
     "data": {
      "text/plain": [
       "{'/statuses/lookup': {'limit': 300, 'remaining': 300, 'reset': 1503372732},\n",
       " '/statuses/oembed': {'limit': 180, 'remaining': 180, 'reset': 1503372732},\n",
       " '/statuses/retweeters/ids': {'limit': 300,\n",
       "  'remaining': 300,\n",
       "  'reset': 1503372732},\n",
       " '/statuses/retweets/:id': {'limit': 300,\n",
       "  'remaining': 300,\n",
       "  'reset': 1503372732},\n",
       " '/statuses/show/:id': {'limit': 900, 'remaining': 900, 'reset': 1503372732},\n",
       " '/statuses/user_timeline': {'limit': 1500,\n",
       "  'remaining': 198,\n",
       "  'reset': 1503372044}}"
      ]
     },
     "execution_count": 13,
     "metadata": {},
     "output_type": "execute_result"
    }
   ],
   "source": [
    "api.rate_limit_status()['resources']['statuses']"
   ]
  },
  {
   "cell_type": "code",
   "execution_count": null,
   "metadata": {
    "collapsed": true
   },
   "outputs": [],
   "source": []
  }
 ],
 "metadata": {
  "kernelspec": {
   "display_name": "Python 3",
   "language": "python",
   "name": "python3"
  },
  "language_info": {
   "codemirror_mode": {
    "name": "ipython",
    "version": 3
   },
   "file_extension": ".py",
   "mimetype": "text/x-python",
   "name": "python",
   "nbconvert_exporter": "python",
   "pygments_lexer": "ipython3",
   "version": "3.5.2"
  }
 },
 "nbformat": 4,
 "nbformat_minor": 2
}
